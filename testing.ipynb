{
 "cells": [
  {
   "cell_type": "code",
   "execution_count": 2,
   "metadata": {},
   "outputs": [
    {
     "name": "stdout",
     "output_type": "stream",
     "text": [
      "Collecting mysql-connector\n",
      "  Downloading mysql-connector-2.2.9.tar.gz (11.9 MB)\n",
      "                                              0.0/11.9 MB ? eta -:--:--\n",
      "                                              0.0/11.9 MB ? eta -:--:--\n",
      "                                              0.1/11.9 MB 2.1 MB/s eta 0:00:06\n",
      "                                              0.2/11.9 MB 2.4 MB/s eta 0:00:05\n",
      "     -                                        0.3/11.9 MB 2.5 MB/s eta 0:00:05\n",
      "     -                                        0.5/11.9 MB 2.4 MB/s eta 0:00:05\n",
      "     -                                        0.6/11.9 MB 2.8 MB/s eta 0:00:05\n",
      "     --                                       0.7/11.9 MB 2.8 MB/s eta 0:00:05\n",
      "     --                                       0.8/11.9 MB 2.8 MB/s eta 0:00:04\n",
      "     ---                                      0.9/11.9 MB 2.7 MB/s eta 0:00:05\n",
      "     ---                                      1.1/11.9 MB 3.0 MB/s eta 0:00:04\n",
      "     ----                                     1.3/11.9 MB 3.1 MB/s eta 0:00:04\n",
      "     ----                                     1.4/11.9 MB 3.2 MB/s eta 0:00:04\n",
      "     -----                                    1.5/11.9 MB 3.1 MB/s eta 0:00:04\n",
      "     -----                                    1.6/11.9 MB 3.2 MB/s eta 0:00:04\n",
      "     ------                                   1.8/11.9 MB 3.2 MB/s eta 0:00:04\n",
      "     ------                                   1.9/11.9 MB 3.2 MB/s eta 0:00:04\n",
      "     -------                                  2.1/11.9 MB 3.2 MB/s eta 0:00:04\n",
      "     -------                                  2.2/11.9 MB 3.3 MB/s eta 0:00:03\n",
      "     -------                                  2.3/11.9 MB 3.3 MB/s eta 0:00:03\n",
      "     --------                                 2.5/11.9 MB 3.3 MB/s eta 0:00:03\n",
      "     --------                                 2.6/11.9 MB 3.3 MB/s eta 0:00:03\n",
      "     ---------                                2.8/11.9 MB 3.3 MB/s eta 0:00:03\n",
      "     ---------                                2.9/11.9 MB 3.4 MB/s eta 0:00:03\n",
      "     ----------                               3.0/11.9 MB 3.4 MB/s eta 0:00:03\n",
      "     ----------                               3.2/11.9 MB 3.4 MB/s eta 0:00:03\n",
      "     -----------                              3.3/11.9 MB 3.4 MB/s eta 0:00:03\n",
      "     -----------                              3.4/11.9 MB 3.4 MB/s eta 0:00:03\n",
      "     -----------                              3.5/11.9 MB 3.3 MB/s eta 0:00:03\n",
      "     ------------                             3.6/11.9 MB 3.4 MB/s eta 0:00:03\n",
      "     ------------                             3.8/11.9 MB 3.4 MB/s eta 0:00:03\n",
      "     -------------                            3.9/11.9 MB 3.3 MB/s eta 0:00:03\n",
      "     -------------                            4.0/11.9 MB 3.3 MB/s eta 0:00:03\n",
      "     -------------                            4.1/11.9 MB 3.3 MB/s eta 0:00:03\n",
      "     --------------                           4.2/11.9 MB 3.3 MB/s eta 0:00:03\n",
      "     --------------                           4.3/11.9 MB 3.3 MB/s eta 0:00:03\n",
      "     ---------------                          4.5/11.9 MB 3.3 MB/s eta 0:00:03\n",
      "     ---------------                          4.6/11.9 MB 3.3 MB/s eta 0:00:03\n",
      "     ---------------                          4.7/11.9 MB 3.3 MB/s eta 0:00:03\n",
      "     ----------------                         4.8/11.9 MB 3.3 MB/s eta 0:00:03\n",
      "     ----------------                         4.8/11.9 MB 3.2 MB/s eta 0:00:03\n",
      "     ----------------                         5.0/11.9 MB 3.2 MB/s eta 0:00:03\n",
      "     -----------------                        5.2/11.9 MB 3.3 MB/s eta 0:00:03\n",
      "     ------------------                       5.4/11.9 MB 3.3 MB/s eta 0:00:02\n",
      "     ------------------                       5.5/11.9 MB 3.3 MB/s eta 0:00:02\n",
      "     -------------------                      5.7/11.9 MB 3.4 MB/s eta 0:00:02\n",
      "     -------------------                      5.9/11.9 MB 3.4 MB/s eta 0:00:02\n",
      "     --------------------                     6.1/11.9 MB 3.4 MB/s eta 0:00:02\n",
      "     --------------------                     6.2/11.9 MB 3.4 MB/s eta 0:00:02\n",
      "     ---------------------                    6.3/11.9 MB 3.4 MB/s eta 0:00:02\n",
      "     ---------------------                    6.4/11.9 MB 3.4 MB/s eta 0:00:02\n",
      "     ----------------------                   6.6/11.9 MB 3.4 MB/s eta 0:00:02\n",
      "     ----------------------                   6.7/11.9 MB 3.4 MB/s eta 0:00:02\n",
      "     -----------------------                  6.8/11.9 MB 3.4 MB/s eta 0:00:02\n",
      "     -----------------------                  7.0/11.9 MB 3.4 MB/s eta 0:00:02\n",
      "     ------------------------                 7.1/11.9 MB 3.5 MB/s eta 0:00:02\n",
      "     ------------------------                 7.2/11.9 MB 3.4 MB/s eta 0:00:02\n",
      "     ------------------------                 7.4/11.9 MB 3.4 MB/s eta 0:00:02\n",
      "     -------------------------                7.5/11.9 MB 3.5 MB/s eta 0:00:02\n",
      "     -------------------------                7.7/11.9 MB 3.5 MB/s eta 0:00:02\n",
      "     --------------------------               7.8/11.9 MB 3.5 MB/s eta 0:00:02\n",
      "     --------------------------               7.9/11.9 MB 3.5 MB/s eta 0:00:02\n",
      "     ---------------------------              8.1/11.9 MB 3.5 MB/s eta 0:00:02\n",
      "     ---------------------------              8.2/11.9 MB 3.5 MB/s eta 0:00:02\n",
      "     ----------------------------             8.3/11.9 MB 3.5 MB/s eta 0:00:02\n",
      "     ----------------------------             8.5/11.9 MB 3.5 MB/s eta 0:00:01\n",
      "     -----------------------------            8.6/11.9 MB 3.5 MB/s eta 0:00:01\n",
      "     -----------------------------            8.8/11.9 MB 3.5 MB/s eta 0:00:01\n",
      "     -----------------------------            8.9/11.9 MB 3.5 MB/s eta 0:00:01\n",
      "     ------------------------------           9.0/11.9 MB 3.5 MB/s eta 0:00:01\n",
      "     ------------------------------           9.2/11.9 MB 3.5 MB/s eta 0:00:01\n",
      "     -------------------------------          9.3/11.9 MB 3.5 MB/s eta 0:00:01\n",
      "     -------------------------------          9.4/11.9 MB 3.5 MB/s eta 0:00:01\n",
      "     --------------------------------         9.6/11.9 MB 3.5 MB/s eta 0:00:01\n",
      "     --------------------------------         9.7/11.9 MB 3.5 MB/s eta 0:00:01\n",
      "     ---------------------------------        9.8/11.9 MB 3.5 MB/s eta 0:00:01\n",
      "     ---------------------------------        9.9/11.9 MB 3.5 MB/s eta 0:00:01\n",
      "     ----------------------------------       10.1/11.9 MB 3.5 MB/s eta 0:00:01\n",
      "     ----------------------------------       10.2/11.9 MB 3.5 MB/s eta 0:00:01\n",
      "     ----------------------------------       10.3/11.9 MB 3.5 MB/s eta 0:00:01\n",
      "     -----------------------------------      10.5/11.9 MB 3.5 MB/s eta 0:00:01\n",
      "     -----------------------------------      10.6/11.9 MB 3.6 MB/s eta 0:00:01\n",
      "     ------------------------------------     10.7/11.9 MB 3.6 MB/s eta 0:00:01\n",
      "     ------------------------------------     10.9/11.9 MB 3.6 MB/s eta 0:00:01\n",
      "     -------------------------------------    11.0/11.9 MB 3.6 MB/s eta 0:00:01\n",
      "     -------------------------------------    11.1/11.9 MB 3.6 MB/s eta 0:00:01\n",
      "     --------------------------------------   11.3/11.9 MB 3.6 MB/s eta 0:00:01\n",
      "     --------------------------------------   11.4/11.9 MB 3.6 MB/s eta 0:00:01\n",
      "     --------------------------------------   11.5/11.9 MB 3.6 MB/s eta 0:00:01\n",
      "     ---------------------------------------  11.7/11.9 MB 3.6 MB/s eta 0:00:01\n",
      "     ---------------------------------------  11.8/11.9 MB 3.6 MB/s eta 0:00:01\n",
      "     ---------------------------------------  11.8/11.9 MB 3.6 MB/s eta 0:00:01\n",
      "     ---------------------------------------  11.8/11.9 MB 3.6 MB/s eta 0:00:01\n",
      "     ---------------------------------------- 11.9/11.9 MB 3.5 MB/s eta 0:00:00\n",
      "  Installing build dependencies: started\n",
      "  Installing build dependencies: finished with status 'done'\n",
      "  Getting requirements to build wheel: started\n",
      "  Getting requirements to build wheel: finished with status 'done'\n",
      "  Preparing metadata (pyproject.toml): started\n",
      "  Preparing metadata (pyproject.toml): finished with status 'done'\n",
      "Building wheels for collected packages: mysql-connector\n",
      "  Building wheel for mysql-connector (pyproject.toml): started\n",
      "  Building wheel for mysql-connector (pyproject.toml): finished with status 'done'\n",
      "  Created wheel for mysql-connector: filename=mysql_connector-2.2.9-cp310-cp310-win_amd64.whl size=247959 sha256=14b1c8f8b2c2fd3d8e56f1ee1401efc0115c6fe1dececcf18b525c312da65195\n",
      "  Stored in directory: c:\\users\\aqua\\appdata\\local\\pip\\cache\\wheels\\76\\48\\9b\\da67ff1a18fe8e9d428f9b1a177716d4a7d363d2bbe83bf6cf\n",
      "Successfully built mysql-connector\n",
      "Installing collected packages: mysql-connector\n",
      "Successfully installed mysql-connector-2.2.9\n"
     ]
    }
   ],
   "source": [
    "!pip install mysql-connector"
   ]
  },
  {
   "cell_type": "code",
   "execution_count": 4,
   "metadata": {},
   "outputs": [
    {
     "name": "stdout",
     "output_type": "stream",
     "text": [
      "(1, 'Yulma', 'yhavill0@wikia.com', 'xvrLyBr')\n",
      "(2, 'Meade', 'mmactrustam1@wiley.com', 'Os7R3pM46')\n",
      "(3, 'Marquita', 'mvitte2@fema.gov', 'HGKTlMn3mF')\n",
      "(4, 'Inglis', 'iwarbys3@sbwire.com', 'cS8aSz')\n",
      "(5, 'Bentlee', 'bmacpeice4@dmoz.org', 'oskXGaD')\n",
      "(6, 'Waly', 'wgerault5@so-net.ne.jp', 'pfcgWQt5ap')\n",
      "(7, 'Auberon', 'aharby6@sitemeter.com', 'EPZ7EWntov')\n",
      "(8, 'Lacey', 'lwhild7@umn.edu', '9Wk9dpY')\n",
      "(9, 'Mellisent', 'mgodbehere8@usa.gov', 'Ol9KLmI')\n",
      "(10, 'Lazaro', 'lstradling9@live.com', 'abuX8htjLrJh')\n",
      "(11, 'Olimpia', 'oalbistona@wix.com', 'h08HsYP')\n",
      "(12, 'Devland', 'dquarringtonb@sfgate.com', 'AJ6Mzel')\n",
      "(13, 'Ericka', 'efawdriec@icq.com', '4mDmP3INvyn')\n",
      "(14, 'Sena', 'stolworthd@elpais.com', 'BKFWkfB9G')\n",
      "(15, 'Thaddus', 'tlongcastere@squarespace.com', 'hWmpCCKqydP')\n",
      "(16, 'Aldon', 'astockenf@csmonitor.com', 'aOMjFJHlQKzx')\n",
      "(17, 'Ronny', 'rhaughing@earthlink.net', 'iwdUtx')\n",
      "(18, 'Valerie', 'vsolomonh@toplist.cz', '4NrRfm0m3M')\n",
      "(19, 'Roobbie', 'rbendleyi@rambler.ru', 'mjybv4BC')\n",
      "(20, 'Dorthy', 'dgubbinsj@mayoclinic.com', 'wBnCEDbWpd')\n",
      "(21, 'Javier', 'jwenderottk@vkontakte.ru', 'A2MQ0rDLKr')\n",
      "(22, 'Nesta', 'nrockalll@naver.com', 'hBrMf8aG')\n",
      "(23, 'Dorine', 'dnelissenm@wordpress.org', 'snkq14I2k8')\n",
      "(24, 'Norby', 'ndominiquen@wufoo.com', 'I1UPJEO5UD')\n",
      "(25, 'Kaye', 'kgammono@cdc.gov', 'EwoSyVvl')\n",
      "(26, 'Ashly', 'apondjonesp@blogtalkradio.com', 'XVNbq8w5UW')\n",
      "(27, 'Xymenes', 'xshewsmithq@people.com.cn', 'ovXv6ErHdUiG')\n",
      "(28, 'Venus', 'vjeensr@geocities.jp', 'JYfUnkq')\n",
      "(29, 'Alon', 'adowners@is.gd', 'Rb7HlcGq')\n",
      "(30, 'Delmore', 'dlatheyt@infoseek.co.jp', 'uD4SHNlwN')\n",
      "(31, 'Isac', 'isumsionu@github.com', '35rL90R2F')\n",
      "(32, 'Shandeigh', 'sruspinev@nasa.gov', 'fn7EFDAm')\n",
      "(33, 'Merralee', 'mteaseyw@buzzfeed.com', 'tlx4gTRMk')\n",
      "(34, 'Guglielmo', 'gmettrickex@storify.com', '3iLbOYEL')\n",
      "(35, 'Baillie', 'bbernardoniy@bravesites.com', 'WECYBZHOPZv')\n",
      "(36, 'Kamilah', 'kbatecokz@typepad.com', 'WH3L5Wr')\n",
      "(37, 'Richie', 'rvedyashkin10@dailymotion.com', '60yFRQAoR')\n",
      "(38, 'Danell', 'dgerbi11@answers.com', 'XFO4p2wal4s')\n",
      "(39, 'Ruttger', 'rbyrcher12@unicef.org', '6dAT2R2n')\n",
      "(40, 'Katerine', 'khaswell13@washingtonpost.com', 'uO3Tt4F9yA')\n",
      "(41, 'Lorenzo', 'lledur14@livejournal.com', 'KbidT8')\n",
      "(42, 'Malcolm', 'mguslon15@google.fr', '6EBuPHz')\n",
      "(43, 'Livvyy', 'lmcettrick16@ted.com', 'MAER9UWSqOCH')\n",
      "(44, 'Petunia', 'pfarfull17@usgs.gov', 'L5haLT')\n",
      "(45, 'Zedekiah', 'zodgaard18@alexa.com', 'mpBKC2')\n",
      "(46, 'Mareah', 'mstaziker19@comsenz.com', 'fIQLcyqevXV')\n",
      "(47, 'Eartha', 'ebolesworth1a@vk.com', 'Fni1NY1AlbQC')\n",
      "(48, 'Torry', 'tcoleyshaw1b@tripadvisor.com', 'aKHvqbkgF')\n",
      "(49, 'Robbyn', 'rtour1c@jugem.jp', '0Qz6lJy8')\n",
      "(50, 'Davidde', 'dgiovanetti1d@quantcast.com', '1x7fpeX')\n"
     ]
    }
   ],
   "source": [
    "import mysql.connector\n",
    "\n",
    "mydb = mysql.connector.connect(\n",
    "  host=\"34.69.199.102\",\n",
    "  user=\"root\",\n",
    "  password=\"J]91kx6G&S:^]'Gu\",\n",
    "  database=\"component\"\n",
    ")\n",
    "\n",
    "mycursor = mydb.cursor()\n",
    "\n",
    "mycursor.execute(\"SELECT * FROM componenttable\")\n",
    "# mycursor.execute(\"SELECT * FROM componenttable WHERE email='dgerbi11@answers.com'\")\n",
    "\n",
    "myresult = mycursor.fetchall()\n",
    "\n",
    "for x in myresult:\n",
    "  print(x)"
   ]
  },
  {
   "cell_type": "code",
   "execution_count": 6,
   "metadata": {},
   "outputs": [
    {
     "data": {
      "text/plain": [
       "list"
      ]
     },
     "execution_count": 6,
     "metadata": {},
     "output_type": "execute_result"
    }
   ],
   "source": [
    "type(myresult)"
   ]
  },
  {
   "cell_type": "code",
   "execution_count": 7,
   "metadata": {},
   "outputs": [
    {
     "data": {
      "text/plain": [
       "'mvitte2@fema.gov'"
      ]
     },
     "execution_count": 7,
     "metadata": {},
     "output_type": "execute_result"
    }
   ],
   "source": [
    "myresult[2][2]"
   ]
  },
  {
   "cell_type": "code",
   "execution_count": 35,
   "metadata": {},
   "outputs": [
    {
     "data": {
      "text/plain": [
       "[(3, 'Marquita', 'mvitte2@fema.gov', 'HGKTlMn3mF')]"
      ]
     },
     "execution_count": 35,
     "metadata": {},
     "output_type": "execute_result"
    }
   ],
   "source": [
    "mydb = mysql.connector.connect(\n",
    "    host=\"34.69.199.102\",\n",
    "    user=\"root\",\n",
    "    password=\"J]91kx6G&S:^]'Gu\",\n",
    "    database=\"component\"\n",
    ")\n",
    "\n",
    "mycursor = mydb.cursor()\n",
    "\n",
    "query = \"SELECT * FROM componenttable WHERE email= %s\" \n",
    "values = \"mvitte2@fema.gov\"\n",
    "res = tuple(map(int, values.split(', ')))\n",
    "# query = \"SELECT * FROM componenttable WHERE email='mvitte2@fema.gov'\"\n",
    "\n",
    "mycursor.execute(\"SELECT * FROM componenttable WHERE email= %s\", values)\n",
    "\n",
    "# mycursor.execute(query, values)\n",
    "myresult = mycursor.fetchall()\n",
    "myresult"
   ]
  },
  {
   "cell_type": "code",
   "execution_count": 38,
   "metadata": {},
   "outputs": [
    {
     "ename": "InternalError",
     "evalue": "Unread result found",
     "output_type": "error",
     "traceback": [
      "\u001b[1;31m---------------------------------------------------------------------------\u001b[0m",
      "\u001b[1;31mInternalError\u001b[0m                             Traceback (most recent call last)",
      "Cell \u001b[1;32mIn[38], line 15\u001b[0m\n\u001b[0;32m     12\u001b[0m mycursor\u001b[39m.\u001b[39mexecute(query, values)\n\u001b[0;32m     13\u001b[0m \u001b[39m# query = \"SELECT * FROM componenttable WHERE email='mvitte2@fema.gov'\"\u001b[39;00m\n\u001b[1;32m---> 15\u001b[0m mycursor\u001b[39m.\u001b[39;49mexecute(\u001b[39m\"\u001b[39;49m\u001b[39mSELECT * FROM componenttable WHERE email= \u001b[39;49m\u001b[39m%s\u001b[39;49;00m\u001b[39m\"\u001b[39;49m, values)\n\u001b[0;32m     17\u001b[0m \u001b[39m# mycursor.execute(query, values)\u001b[39;00m\n\u001b[0;32m     18\u001b[0m myresult \u001b[39m=\u001b[39m mycursor\u001b[39m.\u001b[39mfetchall()\n",
      "File \u001b[1;32mc:\\Users\\Aqua\\AppData\\Local\\Programs\\Python\\Python310\\lib\\site-packages\\mysql\\connector\\cursor.py:521\u001b[0m, in \u001b[0;36mMySQLCursor.execute\u001b[1;34m(self, operation, params, multi)\u001b[0m\n\u001b[0;32m    518\u001b[0m \u001b[39mif\u001b[39;00m \u001b[39mnot\u001b[39;00m \u001b[39mself\u001b[39m\u001b[39m.\u001b[39m_connection:\n\u001b[0;32m    519\u001b[0m     \u001b[39mraise\u001b[39;00m errors\u001b[39m.\u001b[39mProgrammingError(\u001b[39m\"\u001b[39m\u001b[39mCursor is not connected\u001b[39m\u001b[39m\"\u001b[39m)\n\u001b[1;32m--> 521\u001b[0m \u001b[39mself\u001b[39;49m\u001b[39m.\u001b[39;49m_connection\u001b[39m.\u001b[39;49mhandle_unread_result()\n\u001b[0;32m    523\u001b[0m \u001b[39mself\u001b[39m\u001b[39m.\u001b[39m_reset_result()\n\u001b[0;32m    524\u001b[0m stmt \u001b[39m=\u001b[39m \u001b[39m'\u001b[39m\u001b[39m'\u001b[39m\n",
      "File \u001b[1;32mc:\\Users\\Aqua\\AppData\\Local\\Programs\\Python\\Python310\\lib\\site-packages\\mysql\\connector\\connection.py:1059\u001b[0m, in \u001b[0;36mMySQLConnection.handle_unread_result\u001b[1;34m(self)\u001b[0m\n\u001b[0;32m   1057\u001b[0m     \u001b[39mself\u001b[39m\u001b[39m.\u001b[39mconsume_results()\n\u001b[0;32m   1058\u001b[0m \u001b[39melif\u001b[39;00m \u001b[39mself\u001b[39m\u001b[39m.\u001b[39munread_result:\n\u001b[1;32m-> 1059\u001b[0m     \u001b[39mraise\u001b[39;00m errors\u001b[39m.\u001b[39mInternalError(\u001b[39m\"\u001b[39m\u001b[39mUnread result found\u001b[39m\u001b[39m\"\u001b[39m)\n",
      "\u001b[1;31mInternalError\u001b[0m: Unread result found"
     ]
    }
   ],
   "source": [
    "mydb = mysql.connector.connect(\n",
    "    host=\"34.69.199.102\",\n",
    "    user=\"root\",\n",
    "    password=\"J]91kx6G&S:^]'Gu\",\n",
    "    database=\"component\"\n",
    ")\n",
    "\n",
    "mycursor = mydb.cursor()\n",
    "\n",
    "query = \"SELECT * FROM componenttable WHERE email= %(email)s\"\n",
    "values = {\"email\": \"mvitte2@fema.gov\"} \n",
    "mycursor.execute(query, values)\n",
    "# query = \"SELECT * FROM componenttable WHERE email='mvitte2@fema.gov'\"\n",
    "\n",
    "mycursor.execute(\"SELECT * FROM componenttable WHERE email= %s\", values)\n",
    "\n",
    "# mycursor.execute(query, values)\n",
    "myresult = mycursor.fetchall()\n",
    "myresult"
   ]
  },
  {
   "cell_type": "code",
   "execution_count": null,
   "metadata": {},
   "outputs": [],
   "source": []
  }
 ],
 "metadata": {
  "kernelspec": {
   "display_name": "Python 3 (ipykernel)",
   "language": "python",
   "name": "python3"
  },
  "language_info": {
   "codemirror_mode": {
    "name": "ipython",
    "version": 3
   },
   "file_extension": ".py",
   "mimetype": "text/x-python",
   "name": "python",
   "nbconvert_exporter": "python",
   "pygments_lexer": "ipython3",
   "version": "3.10.11"
  },
  "orig_nbformat": 4
 },
 "nbformat": 4,
 "nbformat_minor": 2
}
