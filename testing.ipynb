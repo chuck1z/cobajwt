{
 "cells": [
  {
   "cell_type": "code",
   "execution_count": null,
   "metadata": {},
   "outputs": [],
   "source": [
    "!pip install mysql-connector"
   ]
  },
  {
   "cell_type": "code",
   "execution_count": 27,
   "metadata": {},
   "outputs": [
    {
     "name": "stdout",
     "output_type": "stream",
     "text": [
      "(1, 'Yulma', 'yhavill0@wikia.com', 'xvrLyBr')\n",
      "(2, 'Meade', 'mmactrustam1@wiley.com', 'Os7R3pM46')\n",
      "(3, 'Marquita', 'mvitte2@fema.gov', 'HGKTlMn3mF')\n",
      "(4, 'Inglis', 'iwarbys3@sbwire.com', 'cS8aSz')\n",
      "(5, 'Bentlee', 'bmacpeice4@dmoz.org', 'oskXGaD')\n",
      "(6, 'Waly', 'wgerault5@so-net.ne.jp', 'pfcgWQt5ap')\n",
      "(7, 'Auberon', 'aharby6@sitemeter.com', 'EPZ7EWntov')\n",
      "(8, 'Lacey', 'lwhild7@umn.edu', '9Wk9dpY')\n",
      "(9, 'Mellisent', 'mgodbehere8@usa.gov', 'Ol9KLmI')\n",
      "(10, 'Lazaro', 'lstradling9@live.com', 'abuX8htjLrJh')\n",
      "(11, 'Olimpia', 'oalbistona@wix.com', 'h08HsYP')\n",
      "(12, 'Devland', 'dquarringtonb@sfgate.com', 'AJ6Mzel')\n",
      "(13, 'Ericka', 'efawdriec@icq.com', '4mDmP3INvyn')\n",
      "(14, 'Sena', 'stolworthd@elpais.com', 'BKFWkfB9G')\n",
      "(15, 'Thaddus', 'tlongcastere@squarespace.com', 'hWmpCCKqydP')\n",
      "(16, 'Aldon', 'astockenf@csmonitor.com', 'aOMjFJHlQKzx')\n",
      "(17, 'Ronny', 'rhaughing@earthlink.net', 'iwdUtx')\n",
      "(18, 'Valerie', 'vsolomonh@toplist.cz', '4NrRfm0m3M')\n",
      "(19, 'Roobbie', 'rbendleyi@rambler.ru', 'mjybv4BC')\n",
      "(20, 'Dorthy', 'dgubbinsj@mayoclinic.com', 'wBnCEDbWpd')\n",
      "(21, 'Javier', 'jwenderottk@vkontakte.ru', 'A2MQ0rDLKr')\n",
      "(22, 'Nesta', 'nrockalll@naver.com', 'hBrMf8aG')\n",
      "(23, 'Dorine', 'dnelissenm@wordpress.org', 'snkq14I2k8')\n",
      "(24, 'Norby', 'ndominiquen@wufoo.com', 'I1UPJEO5UD')\n",
      "(25, 'Kaye', 'kgammono@cdc.gov', 'EwoSyVvl')\n",
      "(26, 'Ashly', 'apondjonesp@blogtalkradio.com', 'XVNbq8w5UW')\n",
      "(27, 'Xymenes', 'xshewsmithq@people.com.cn', 'ovXv6ErHdUiG')\n",
      "(28, 'Venus', 'vjeensr@geocities.jp', 'JYfUnkq')\n",
      "(29, 'Alon', 'adowners@is.gd', 'Rb7HlcGq')\n",
      "(30, 'Delmore', 'dlatheyt@infoseek.co.jp', 'uD4SHNlwN')\n",
      "(31, 'Isac', 'isumsionu@github.com', '35rL90R2F')\n",
      "(32, 'Shandeigh', 'sruspinev@nasa.gov', 'fn7EFDAm')\n",
      "(33, 'Merralee', 'mteaseyw@buzzfeed.com', 'tlx4gTRMk')\n",
      "(34, 'Guglielmo', 'gmettrickex@storify.com', '3iLbOYEL')\n",
      "(35, 'Baillie', 'bbernardoniy@bravesites.com', 'WECYBZHOPZv')\n",
      "(36, 'Kamilah', 'kbatecokz@typepad.com', 'WH3L5Wr')\n",
      "(37, 'Richie', 'rvedyashkin10@dailymotion.com', '60yFRQAoR')\n",
      "(38, 'Danell', 'dgerbi11@answers.com', 'XFO4p2wal4s')\n",
      "(39, 'Ruttger', 'rbyrcher12@unicef.org', '6dAT2R2n')\n",
      "(40, 'Katerine', 'khaswell13@washingtonpost.com', 'uO3Tt4F9yA')\n",
      "(41, 'Lorenzo', 'lledur14@livejournal.com', 'KbidT8')\n",
      "(42, 'Malcolm', 'mguslon15@google.fr', '6EBuPHz')\n",
      "(43, 'Livvyy', 'lmcettrick16@ted.com', 'MAER9UWSqOCH')\n",
      "(44, 'Petunia', 'pfarfull17@usgs.gov', 'L5haLT')\n",
      "(45, 'Zedekiah', 'zodgaard18@alexa.com', 'mpBKC2')\n",
      "(46, 'Mareah', 'mstaziker19@comsenz.com', 'fIQLcyqevXV')\n",
      "(47, 'Eartha', 'ebolesworth1a@vk.com', 'Fni1NY1AlbQC')\n",
      "(48, 'Torry', 'tcoleyshaw1b@tripadvisor.com', 'aKHvqbkgF')\n",
      "(49, 'Robbyn', 'rtour1c@jugem.jp', '0Qz6lJy8')\n",
      "(50, 'Davidde', 'dgiovanetti1d@quantcast.com', '1x7fpeX')\n"
     ]
    }
   ],
   "source": [
    "import mysql.connector\n",
    "\n",
    "mydb = mysql.connector.connect(\n",
    "  host=\"34.69.199.102\",\n",
    "  user=\"root\",\n",
    "  password=\"J]91kx6G&S:^]'Gu\",\n",
    "  database=\"component\"\n",
    ")\n",
    "\n",
    "mycursor = mydb.cursor()\n",
    "\n",
    "mycursor.execute(\"SELECT * FROM componenttable\")\n",
    "# mycursor.execute(\"SELECT * FROM componenttable WHERE email='dgerbi11@answers.com'\")\n",
    "\n",
    "myresult = mycursor.fetchall()\n",
    "\n",
    "for x in myresult:\n",
    "  print(x)\n"
   ]
  },
  {
   "cell_type": "code",
   "execution_count": 5,
   "metadata": {},
   "outputs": [
    {
     "data": {
      "text/plain": [
       "list"
      ]
     },
     "execution_count": 5,
     "metadata": {},
     "output_type": "execute_result"
    }
   ],
   "source": [
    "type(myresult)"
   ]
  },
  {
   "cell_type": "code",
   "execution_count": 9,
   "metadata": {},
   "outputs": [
    {
     "ename": "TypeError",
     "evalue": "list indices must be integers or slices, not tuple",
     "output_type": "error",
     "traceback": [
      "\u001b[0;31m---------------------------------------------------------------------------\u001b[0m",
      "\u001b[0;31mTypeError\u001b[0m                                 Traceback (most recent call last)",
      "Cell \u001b[0;32mIn[9], line 1\u001b[0m\n\u001b[0;32m----> 1\u001b[0m myresult[:,\u001b[39m2\u001b[39;49m]\n",
      "\u001b[0;31mTypeError\u001b[0m: list indices must be integers or slices, not tuple"
     ]
    }
   ],
   "source": [
    "myresult["
   ]
  },
  {
   "cell_type": "code",
   "execution_count": 30,
   "metadata": {},
   "outputs": [
    {
     "data": {
      "text/plain": [
       "'mvitte2@fema.gov'"
      ]
     },
     "execution_count": 30,
     "metadata": {},
     "output_type": "execute_result"
    }
   ],
   "source": [
    "myresult[2][2]"
   ]
  },
  {
   "cell_type": "code",
   "execution_count": null,
   "metadata": {},
   "outputs": [],
   "source": []
  }
 ],
 "metadata": {
  "kernelspec": {
   "display_name": "Python 3 (ipykernel)",
   "language": "python",
   "name": "python3"
  },
  "language_info": {
   "codemirror_mode": {
    "name": "ipython",
    "version": 3
   },
   "file_extension": ".py",
   "mimetype": "text/x-python",
   "name": "python",
   "nbconvert_exporter": "python",
   "pygments_lexer": "ipython3",
   "version": "3.10.4"
  },
  "orig_nbformat": 4
 },
 "nbformat": 4,
 "nbformat_minor": 2
}
